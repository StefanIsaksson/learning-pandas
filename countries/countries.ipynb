{
 "cells": [
  {
   "cell_type": "code",
   "execution_count": 1,
   "metadata": {},
   "outputs": [],
   "source": [
    "import sqlite3\n",
    "import pandas as pd"
   ]
  },
  {
   "cell_type": "code",
   "execution_count": 2,
   "metadata": {},
   "outputs": [
    {
     "data": {
      "text/html": [
       "<div>\n",
       "<style scoped>\n",
       "    .dataframe tbody tr th:only-of-type {\n",
       "        vertical-align: middle;\n",
       "    }\n",
       "\n",
       "    .dataframe tbody tr th {\n",
       "        vertical-align: top;\n",
       "    }\n",
       "\n",
       "    .dataframe thead th {\n",
       "        text-align: right;\n",
       "    }\n",
       "</style>\n",
       "<table border=\"1\" class=\"dataframe\">\n",
       "  <thead>\n",
       "    <tr style=\"text-align: right;\">\n",
       "      <th></th>\n",
       "      <th>code</th>\n",
       "    </tr>\n",
       "    <tr>\n",
       "      <th>country</th>\n",
       "      <th></th>\n",
       "    </tr>\n",
       "  </thead>\n",
       "  <tbody>\n",
       "    <tr>\n",
       "      <th>Yemen</th>\n",
       "      <td>YE</td>\n",
       "    </tr>\n",
       "    <tr>\n",
       "      <th>Yugoslavia</th>\n",
       "      <td>YU</td>\n",
       "    </tr>\n",
       "    <tr>\n",
       "      <th>South Africa</th>\n",
       "      <td>ZA</td>\n",
       "    </tr>\n",
       "    <tr>\n",
       "      <th>Zambia</th>\n",
       "      <td>ZM</td>\n",
       "    </tr>\n",
       "    <tr>\n",
       "      <th>Zimbabwe</th>\n",
       "      <td>ZW</td>\n",
       "    </tr>\n",
       "  </tbody>\n",
       "</table>\n",
       "</div>"
      ],
      "text/plain": [
       "             code\n",
       "country          \n",
       "Yemen          YE\n",
       "Yugoslavia     YU\n",
       "South Africa   ZA\n",
       "Zambia         ZM\n",
       "Zimbabwe       ZW"
      ]
     },
     "execution_count": 2,
     "metadata": {},
     "output_type": "execute_result"
    }
   ],
   "source": [
    "df_code = pd.read_csv('data/country_abbreviation.csv', index_col=['country'])\n",
    "df_code = df_code.rename(columns={'abbreviation': 'code'})\n",
    "df_code.tail(5)"
   ]
  },
  {
   "cell_type": "code",
   "execution_count": 3,
   "metadata": {},
   "outputs": [],
   "source": [
    "df_continent = pd.read_csv('data/country_continent.csv', index_col=['country'])"
   ]
  },
  {
   "cell_type": "code",
   "execution_count": 4,
   "metadata": {},
   "outputs": [],
   "source": [
    "df_population = pd.read_csv('data/country_population.csv', index_col=['country'])"
   ]
  },
  {
   "cell_type": "code",
   "execution_count": 5,
   "metadata": {},
   "outputs": [],
   "source": [
    "df_languages = pd.read_csv('data/country_languages.csv', index_col=['country'])\n",
    "df_languages = df_languages[~df_languages.index.duplicated(keep='first')]"
   ]
  },
  {
   "cell_type": "code",
   "execution_count": 6,
   "metadata": {},
   "outputs": [],
   "source": [
    "df_capital_city = pd.read_csv('data/country_capital_city.csv', index_col=['country'])"
   ]
  },
  {
   "cell_type": "code",
   "execution_count": 7,
   "metadata": {},
   "outputs": [],
   "source": [
    "df_life_expectancy = pd.read_csv('data/country_life_expectancy.csv', index_col=['country'])\n",
    "df_life_expectancy = df_life_expectancy[~df_life_expectancy.index.duplicated(keep='first')]"
   ]
  },
  {
   "cell_type": "code",
   "execution_count": 8,
   "metadata": {},
   "outputs": [],
   "source": [
    "df_capital_national_dish = pd.read_csv('data/country_by_national_dish.csv', index_col=['country'])\n",
    "df_capital_national_dish = df_capital_national_dish[~df_capital_national_dish.index.duplicated(keep='first')]"
   ]
  },
  {
   "cell_type": "code",
   "execution_count": null,
   "metadata": {},
   "outputs": [],
   "source": []
  },
  {
   "cell_type": "code",
   "execution_count": 9,
   "metadata": {},
   "outputs": [],
   "source": [
    "df_code_and_continent = df_code.join(df_continent)"
   ]
  },
  {
   "cell_type": "code",
   "execution_count": 10,
   "metadata": {},
   "outputs": [
    {
     "data": {
      "text/html": [
       "<div>\n",
       "<style scoped>\n",
       "    .dataframe tbody tr th:only-of-type {\n",
       "        vertical-align: middle;\n",
       "    }\n",
       "\n",
       "    .dataframe tbody tr th {\n",
       "        vertical-align: top;\n",
       "    }\n",
       "\n",
       "    .dataframe thead th {\n",
       "        text-align: right;\n",
       "    }\n",
       "</style>\n",
       "<table border=\"1\" class=\"dataframe\">\n",
       "  <thead>\n",
       "    <tr style=\"text-align: right;\">\n",
       "      <th></th>\n",
       "      <th>code</th>\n",
       "      <th>continent</th>\n",
       "    </tr>\n",
       "    <tr>\n",
       "      <th>country</th>\n",
       "      <th></th>\n",
       "      <th></th>\n",
       "    </tr>\n",
       "  </thead>\n",
       "  <tbody>\n",
       "    <tr>\n",
       "      <th>Aruba</th>\n",
       "      <td>AW</td>\n",
       "      <td>North America</td>\n",
       "    </tr>\n",
       "  </tbody>\n",
       "</table>\n",
       "</div>"
      ],
      "text/plain": [
       "        code      continent\n",
       "country                    \n",
       "Aruba     AW  North America"
      ]
     },
     "execution_count": 10,
     "metadata": {},
     "output_type": "execute_result"
    }
   ],
   "source": [
    "df_code_and_continent.head(1)"
   ]
  },
  {
   "cell_type": "code",
   "execution_count": 11,
   "metadata": {},
   "outputs": [],
   "source": [
    "frames = [df_code, df_continent, df_capital_city, df_population, df_capital_national_dish, df_life_expectancy]"
   ]
  },
  {
   "cell_type": "code",
   "execution_count": 12,
   "metadata": {},
   "outputs": [],
   "source": [
    "result = pd.concat(frames, axis=1, sort=False)"
   ]
  },
  {
   "cell_type": "code",
   "execution_count": 13,
   "metadata": {},
   "outputs": [
    {
     "data": {
      "text/html": [
       "<div>\n",
       "<style scoped>\n",
       "    .dataframe tbody tr th:only-of-type {\n",
       "        vertical-align: middle;\n",
       "    }\n",
       "\n",
       "    .dataframe tbody tr th {\n",
       "        vertical-align: top;\n",
       "    }\n",
       "\n",
       "    .dataframe thead th {\n",
       "        text-align: right;\n",
       "    }\n",
       "</style>\n",
       "<table border=\"1\" class=\"dataframe\">\n",
       "  <thead>\n",
       "    <tr style=\"text-align: right;\">\n",
       "      <th></th>\n",
       "      <th>code</th>\n",
       "      <th>continent</th>\n",
       "      <th>city</th>\n",
       "      <th>population</th>\n",
       "      <th>dish</th>\n",
       "      <th>life_expectancy</th>\n",
       "    </tr>\n",
       "  </thead>\n",
       "  <tbody>\n",
       "    <tr>\n",
       "      <th>Aruba</th>\n",
       "      <td>AW</td>\n",
       "      <td>North America</td>\n",
       "      <td>Oranjestad</td>\n",
       "      <td>103000.0</td>\n",
       "      <td>Keshi yena</td>\n",
       "      <td>78.4</td>\n",
       "    </tr>\n",
       "    <tr>\n",
       "      <th>Afghanistan</th>\n",
       "      <td>AF</td>\n",
       "      <td>Asia</td>\n",
       "      <td>Kabul</td>\n",
       "      <td>22720000.0</td>\n",
       "      <td>Kabuli Palaw</td>\n",
       "      <td>45.9</td>\n",
       "    </tr>\n",
       "    <tr>\n",
       "      <th>Angola</th>\n",
       "      <td>AO</td>\n",
       "      <td>Africa</td>\n",
       "      <td>Luanda</td>\n",
       "      <td>12878000.0</td>\n",
       "      <td>Moamba de galinha</td>\n",
       "      <td>38.3</td>\n",
       "    </tr>\n",
       "    <tr>\n",
       "      <th>Anguilla</th>\n",
       "      <td>AI</td>\n",
       "      <td>North America</td>\n",
       "      <td>The Valley</td>\n",
       "      <td>8000.0</td>\n",
       "      <td>NaN</td>\n",
       "      <td>76.1</td>\n",
       "    </tr>\n",
       "    <tr>\n",
       "      <th>Albania</th>\n",
       "      <td>AL</td>\n",
       "      <td>Europe</td>\n",
       "      <td>Tirana</td>\n",
       "      <td>3401200.0</td>\n",
       "      <td>Tavë kosi</td>\n",
       "      <td>71.6</td>\n",
       "    </tr>\n",
       "  </tbody>\n",
       "</table>\n",
       "</div>"
      ],
      "text/plain": [
       "            code      continent        city  population                dish  \\\n",
       "Aruba         AW  North America  Oranjestad    103000.0          Keshi yena   \n",
       "Afghanistan   AF           Asia       Kabul  22720000.0        Kabuli Palaw   \n",
       "Angola        AO         Africa      Luanda  12878000.0  Moamba de galinha    \n",
       "Anguilla      AI  North America  The Valley      8000.0                 NaN   \n",
       "Albania       AL         Europe      Tirana   3401200.0           Tavë kosi   \n",
       "\n",
       "             life_expectancy  \n",
       "Aruba                   78.4  \n",
       "Afghanistan             45.9  \n",
       "Angola                  38.3  \n",
       "Anguilla                76.1  \n",
       "Albania                 71.6  "
      ]
     },
     "execution_count": 13,
     "metadata": {},
     "output_type": "execute_result"
    }
   ],
   "source": [
    "result.head(5)"
   ]
  },
  {
   "cell_type": "code",
   "execution_count": 14,
   "metadata": {},
   "outputs": [
    {
     "data": {
      "text/html": [
       "<div>\n",
       "<style scoped>\n",
       "    .dataframe tbody tr th:only-of-type {\n",
       "        vertical-align: middle;\n",
       "    }\n",
       "\n",
       "    .dataframe tbody tr th {\n",
       "        vertical-align: top;\n",
       "    }\n",
       "\n",
       "    .dataframe thead th {\n",
       "        text-align: right;\n",
       "    }\n",
       "</style>\n",
       "<table border=\"1\" class=\"dataframe\">\n",
       "  <thead>\n",
       "    <tr style=\"text-align: right;\">\n",
       "      <th></th>\n",
       "      <th>continent</th>\n",
       "      <th>city</th>\n",
       "      <th>population</th>\n",
       "      <th>dish</th>\n",
       "      <th>life_expectancy</th>\n",
       "      <th>name</th>\n",
       "    </tr>\n",
       "    <tr>\n",
       "      <th>code</th>\n",
       "      <th></th>\n",
       "      <th></th>\n",
       "      <th></th>\n",
       "      <th></th>\n",
       "      <th></th>\n",
       "      <th></th>\n",
       "    </tr>\n",
       "  </thead>\n",
       "  <tbody>\n",
       "    <tr>\n",
       "      <th>AW</th>\n",
       "      <td>North America</td>\n",
       "      <td>Oranjestad</td>\n",
       "      <td>103000.0</td>\n",
       "      <td>Keshi yena</td>\n",
       "      <td>78.4</td>\n",
       "      <td>Aruba</td>\n",
       "    </tr>\n",
       "    <tr>\n",
       "      <th>AF</th>\n",
       "      <td>Asia</td>\n",
       "      <td>Kabul</td>\n",
       "      <td>22720000.0</td>\n",
       "      <td>Kabuli Palaw</td>\n",
       "      <td>45.9</td>\n",
       "      <td>Afghanistan</td>\n",
       "    </tr>\n",
       "    <tr>\n",
       "      <th>AO</th>\n",
       "      <td>Africa</td>\n",
       "      <td>Luanda</td>\n",
       "      <td>12878000.0</td>\n",
       "      <td>Moamba de galinha</td>\n",
       "      <td>38.3</td>\n",
       "      <td>Angola</td>\n",
       "    </tr>\n",
       "    <tr>\n",
       "      <th>AI</th>\n",
       "      <td>North America</td>\n",
       "      <td>The Valley</td>\n",
       "      <td>8000.0</td>\n",
       "      <td>NaN</td>\n",
       "      <td>76.1</td>\n",
       "      <td>Anguilla</td>\n",
       "    </tr>\n",
       "    <tr>\n",
       "      <th>AL</th>\n",
       "      <td>Europe</td>\n",
       "      <td>Tirana</td>\n",
       "      <td>3401200.0</td>\n",
       "      <td>Tavë kosi</td>\n",
       "      <td>71.6</td>\n",
       "      <td>Albania</td>\n",
       "    </tr>\n",
       "  </tbody>\n",
       "</table>\n",
       "</div>"
      ],
      "text/plain": [
       "          continent        city  population                dish  \\\n",
       "code                                                              \n",
       "AW    North America  Oranjestad    103000.0          Keshi yena   \n",
       "AF             Asia       Kabul  22720000.0        Kabuli Palaw   \n",
       "AO           Africa      Luanda  12878000.0  Moamba de galinha    \n",
       "AI    North America  The Valley      8000.0                 NaN   \n",
       "AL           Europe      Tirana   3401200.0           Tavë kosi   \n",
       "\n",
       "      life_expectancy         name  \n",
       "code                                \n",
       "AW               78.4        Aruba  \n",
       "AF               45.9  Afghanistan  \n",
       "AO               38.3       Angola  \n",
       "AI               76.1     Anguilla  \n",
       "AL               71.6      Albania  "
      ]
     },
     "execution_count": 14,
     "metadata": {},
     "output_type": "execute_result"
    }
   ],
   "source": [
    "result['name'] = result.index\n",
    "result = result.set_index('code')\n",
    "result.head(5)"
   ]
  },
  {
   "cell_type": "code",
   "execution_count": 15,
   "metadata": {},
   "outputs": [],
   "source": [
    "result = result[result.index.notnull()]"
   ]
  },
  {
   "cell_type": "code",
   "execution_count": 16,
   "metadata": {},
   "outputs": [],
   "source": [
    "with sqlite3.connect('country.db') as conn:\n",
    "    result.to_sql('country', conn)"
   ]
  },
  {
   "cell_type": "code",
   "execution_count": 17,
   "metadata": {},
   "outputs": [
    {
     "data": {
      "text/html": [
       "<div>\n",
       "<style scoped>\n",
       "    .dataframe tbody tr th:only-of-type {\n",
       "        vertical-align: middle;\n",
       "    }\n",
       "\n",
       "    .dataframe tbody tr th {\n",
       "        vertical-align: top;\n",
       "    }\n",
       "\n",
       "    .dataframe thead th {\n",
       "        text-align: right;\n",
       "    }\n",
       "</style>\n",
       "<table border=\"1\" class=\"dataframe\">\n",
       "  <thead>\n",
       "    <tr style=\"text-align: right;\">\n",
       "      <th></th>\n",
       "      <th>continent</th>\n",
       "      <th>city</th>\n",
       "      <th>population</th>\n",
       "      <th>dish</th>\n",
       "      <th>life_expectancy</th>\n",
       "      <th>name</th>\n",
       "    </tr>\n",
       "    <tr>\n",
       "      <th>code</th>\n",
       "      <th></th>\n",
       "      <th></th>\n",
       "      <th></th>\n",
       "      <th></th>\n",
       "      <th></th>\n",
       "      <th></th>\n",
       "    </tr>\n",
       "  </thead>\n",
       "  <tbody>\n",
       "    <tr>\n",
       "      <th>YE</th>\n",
       "      <td>Asia</td>\n",
       "      <td>Sanaa</td>\n",
       "      <td>18112000.0</td>\n",
       "      <td>Saltah</td>\n",
       "      <td>59.8</td>\n",
       "      <td>Yemen</td>\n",
       "    </tr>\n",
       "    <tr>\n",
       "      <th>YU</th>\n",
       "      <td>Europe</td>\n",
       "      <td>Beograd</td>\n",
       "      <td>10640000.0</td>\n",
       "      <td>NaN</td>\n",
       "      <td>72.4</td>\n",
       "      <td>Yugoslavia</td>\n",
       "    </tr>\n",
       "    <tr>\n",
       "      <th>ZA</th>\n",
       "      <td>Africa</td>\n",
       "      <td>Pretoria</td>\n",
       "      <td>40377000.0</td>\n",
       "      <td>Bobotie</td>\n",
       "      <td>51.1</td>\n",
       "      <td>South Africa</td>\n",
       "    </tr>\n",
       "    <tr>\n",
       "      <th>ZM</th>\n",
       "      <td>Africa</td>\n",
       "      <td>Lusaka</td>\n",
       "      <td>9169000.0</td>\n",
       "      <td>NaN</td>\n",
       "      <td>37.2</td>\n",
       "      <td>Zambia</td>\n",
       "    </tr>\n",
       "    <tr>\n",
       "      <th>ZW</th>\n",
       "      <td>Africa</td>\n",
       "      <td>Harare</td>\n",
       "      <td>11669000.0</td>\n",
       "      <td>Sadza</td>\n",
       "      <td>37.8</td>\n",
       "      <td>Zimbabwe</td>\n",
       "    </tr>\n",
       "  </tbody>\n",
       "</table>\n",
       "</div>"
      ],
      "text/plain": [
       "     continent      city  population     dish  life_expectancy          name\n",
       "code                                                                        \n",
       "YE        Asia     Sanaa  18112000.0   Saltah             59.8         Yemen\n",
       "YU      Europe   Beograd  10640000.0      NaN             72.4    Yugoslavia\n",
       "ZA      Africa  Pretoria  40377000.0  Bobotie             51.1  South Africa\n",
       "ZM      Africa    Lusaka   9169000.0      NaN             37.2        Zambia\n",
       "ZW      Africa    Harare  11669000.0    Sadza             37.8      Zimbabwe"
      ]
     },
     "execution_count": 17,
     "metadata": {},
     "output_type": "execute_result"
    }
   ],
   "source": []
  },
  {
   "cell_type": "code",
   "execution_count": null,
   "metadata": {},
   "outputs": [],
   "source": []
  },
  {
   "cell_type": "code",
   "execution_count": null,
   "metadata": {},
   "outputs": [],
   "source": []
  },
  {
   "cell_type": "code",
   "execution_count": null,
   "metadata": {},
   "outputs": [],
   "source": []
  }
 ],
 "metadata": {
  "kernelspec": {
   "display_name": "Python 3",
   "language": "python",
   "name": "python3"
  },
  "language_info": {
   "codemirror_mode": {
    "name": "ipython",
    "version": 3
   },
   "file_extension": ".py",
   "mimetype": "text/x-python",
   "name": "python",
   "nbconvert_exporter": "python",
   "pygments_lexer": "ipython3",
   "version": "3.6.5"
  }
 },
 "nbformat": 4,
 "nbformat_minor": 2
}
